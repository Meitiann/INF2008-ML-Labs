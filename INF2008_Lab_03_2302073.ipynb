{
  "nbformat": 4,
  "nbformat_minor": 0,
  "metadata": {
    "colab": {
      "provenance": [],
      "include_colab_link": true
    },
    "kernelspec": {
      "name": "python3",
      "display_name": "Python 3"
    },
    "language_info": {
      "name": "python"
    }
  },
  "cells": [
    {
      "cell_type": "markdown",
      "metadata": {
        "id": "view-in-github",
        "colab_type": "text"
      },
      "source": [
        "<a href=\"https://colab.research.google.com/github/Meitiann/INF2008-ML-Labs/blob/main/INF2008_Lab_03_2302073.ipynb\" target=\"_parent\"><img src=\"https://colab.research.google.com/assets/colab-badge.svg\" alt=\"Open In Colab\"/></a>"
      ]
    },
    {
      "cell_type": "markdown",
      "source": [
        "# INF2008 Lab 03\n",
        "\n",
        "In this lab, we will be implementing a few algorithms from scratch. The goal of the lab (as well as other labs) is to help you gain a deep understanding of implementing and training neural network models so try to understand every single line of the code.\n",
        "\n",
        "\n",
        "**[IMPORTANT] Lab Instruction**\n",
        "1. Save a copy of the notebook to your Google Drive, rename it to INF2008_Lab_assignment01_`<Your_STUDENT_ID>`.ipynb\n",
        "2. Fill in your `STUDENT_ID` in the notebook\n",
        "3. Implement the lines with `#TODO` comments\n",
        "4. **DO NOT** change any given code and comments\n",
        "\n",
        "**[IMPORTANT] Submission Instruction**\n",
        "1. After completing this notebook, please download the completed lab as a `.py` file (File > Download > Download .py)\n",
        "<img src=\"https://drive.google.com/uc?id=1NAUZVnIbiJsiK-lrCKcPyYWQoDlkh6kw\"\n",
        "alt=\"altertext\" width=\"400\">\n",
        "2. **Only submit the `.py` file to Dubmit the `.py` file to dropbox [W3-P*-assignments] by 2 Feb**\n",
        "\n",
        "\n"
      ],
      "metadata": {
        "id": "J-tFypfeOv9h"
      }
    },
    {
      "cell_type": "code",
      "source": [
        "import sys\n",
        "\n",
        "STUDENT_ID = \"\"  # Make sure you submit the correct student ID, e.g. STUDENT_ID=\"1234567\"\n",
        "\n",
        "if STUDENT_ID == \"\":\n",
        "  print(\"Warning: STUDENT_ID is empty. Please enter your student ID before starting!\")\n",
        "  sys.exit()\n",
        "else:\n",
        "  print(\"Your student ID is %s, please ensure you typed the correct student ID\"%STUDENT_ID)"
      ],
      "metadata": {
        "id": "EelFzGLeTOpc",
        "colab": {
          "base_uri": "https://localhost:8080/",
          "height": 135
        },
        "outputId": "d20d1e45-5d04-406a-8689-5b6cc95e10fd"
      },
      "execution_count": null,
      "outputs": [
        {
          "output_type": "stream",
          "name": "stdout",
          "text": [
            "Warning: STUDENT_ID is empty. Please enter your student ID before starting!\n"
          ]
        },
        {
          "output_type": "error",
          "ename": "SystemExit",
          "evalue": "",
          "traceback": [
            "An exception has occurred, use %tb to see the full traceback.\n",
            "\u001b[0;31mSystemExit\u001b[0m\n"
          ]
        },
        {
          "output_type": "stream",
          "name": "stderr",
          "text": [
            "/usr/local/lib/python3.11/dist-packages/IPython/core/interactiveshell.py:3561: UserWarning: To exit: use 'exit', 'quit', or Ctrl-D.\n",
            "  warn(\"To exit: use 'exit', 'quit', or Ctrl-D.\", stacklevel=1)\n"
          ]
        }
      ]
    },
    {
      "cell_type": "markdown",
      "source": [
        "*   1 Normalization\n",
        "*   2 Create a simple MLP in pytorch\n",
        "*   3 Creation of Activation Functions\n"
      ],
      "metadata": {
        "id": "tKsyHWEg0RIr"
      }
    },
    {
      "cell_type": "markdown",
      "source": [
        "We first create the sample data. Here we will just be making a very simple 2 dimensional dataset."
      ],
      "metadata": {
        "id": "QEuLd3DyKfUV"
      }
    },
    {
      "cell_type": "code",
      "execution_count": null,
      "metadata": {
        "colab": {
          "base_uri": "https://localhost:8080/",
          "height": 445
        },
        "id": "HqgDhgXfwRkm",
        "outputId": "09ec57bd-8511-47a7-eb13-2345502d5750"
      },
      "outputs": [
        {
          "output_type": "execute_result",
          "data": {
            "text/plain": [
              "<matplotlib.collections.PathCollection at 0x7ead089d7150>"
            ]
          },
          "metadata": {},
          "execution_count": 1
        },
        {
          "output_type": "display_data",
          "data": {
            "text/plain": [
              "<Figure size 640x480 with 1 Axes>"
            ],
            "image/png": "[encoded data removed]"
          },
          "metadata": {}
        }
      ],
      "source": [
        "import matplotlib.pyplot as plt\n",
        "from sklearn.datasets import make_blobs\n",
        "\n",
        "centers = [(-1, -1), (1, 1)]\n",
        "cluster_std = [1.5, 1.5]\n",
        "\n",
        "X, y = make_blobs(n_samples=100, cluster_std=cluster_std, centers=centers, n_features=2, random_state=1)\n",
        "\n",
        "plt.scatter(X[y == 0, 0], X[y == 0, 1], color=\"red\", s=10, label=\"Cluster1\")\n",
        "plt.scatter(X[y == 1, 0], X[y == 1, 1], color=\"blue\", s=10, label=\"Cluster2\")"
      ]
    },
    {
      "cell_type": "markdown",
      "source": [
        "We split it into the train test datasets so that everybody is using exactly the same data points."
      ],
      "metadata": {
        "id": "R_zlXvHzK6fQ"
      }
    },
    {
      "cell_type": "code",
      "source": [
        "from sklearn.model_selection import train_test_split\n",
        "\n",
        "X_train, X_test, y_train, y_test = train_test_split(X, y, test_size=0.33, random_state=42)"
      ],
      "metadata": {
        "id": "GUZ7Z4upwi9o"
      },
      "execution_count": null,
      "outputs": []
    },
    {
      "cell_type": "markdown",
      "source": [
        "View the training data"
      ],
      "metadata": {
        "id": "cw4I-KT8LER2"
      }
    },
    {
      "cell_type": "code",
      "source": [
        "plt.scatter(X_train[y_train == 0, 0], X_train[y_train == 0, 1], color=\"red\", s=10, label=\"Cluster1\")\n",
        "plt.scatter(X_train[y_train == 1, 0], X_train[y_train == 1, 1], color=\"blue\", s=10, label=\"Cluster2\")"
      ],
      "metadata": {
        "colab": {
          "base_uri": "https://localhost:8080/",
          "height": 445
        },
        "id": "F8r5XzYuNRif",
        "outputId": "7384fa64-eab5-4e8a-88e4-f99ebd7419f8"
      },
      "execution_count": null,
      "outputs": [
        {
          "output_type": "execute_result",
          "data": {
            "text/plain": [
              "<matplotlib.collections.PathCollection at 0x7eacc11c4d90>"
            ]
          },
          "metadata": {},
          "execution_count": 3
        },
        {
          "output_type": "display_data",
          "data": {
            "text/plain": [
              "<Figure size 640x480 with 1 Axes>"
            ],
            "image/png": "[encoded data removed]"
          },
          "metadata": {}
        }
      ]
    },
    {
      "cell_type": "markdown",
      "source": [
        "View the testing data."
      ],
      "metadata": {
        "id": "nuLL4eeNLIYW"
      }
    },
    {
      "cell_type": "code",
      "source": [
        "plt.scatter(X_test[y_test == 0, 0], X_test[y_test == 0, 1], color=\"red\", s=10, label=\"Cluster1\")\n",
        "plt.scatter(X_test[y_test == 1, 0], X_test[y_test == 1, 1], color=\"blue\", s=10, label=\"Cluster2\")"
      ],
      "metadata": {
        "colab": {
          "base_uri": "https://localhost:8080/",
          "height": 445
        },
        "id": "HwUcc_rYNaaW",
        "outputId": "3a9869b2-4b79-4149-8aaf-5f7a7524adfb"
      },
      "execution_count": null,
      "outputs": [
        {
          "output_type": "execute_result",
          "data": {
            "text/plain": [
              "<matplotlib.collections.PathCollection at 0x7eacc0bd3bd0>"
            ]
          },
          "metadata": {},
          "execution_count": 4
        },
        {
          "output_type": "display_data",
          "data": {
            "text/plain": [
              "<Figure size 640x480 with 1 Axes>"
            ],
            "image/png": "[encoded data removed]"
          },
          "metadata": {}
        }
      ]
    },
    {
      "cell_type": "code",
      "source": [
        "import numpy as np\n",
        "import matplotlib.pyplot as plt\n",
        "%matplotlib inline"
      ],
      "metadata": {
        "id": "9hK37-UswvYv"
      },
      "execution_count": null,
      "outputs": []
    },
    {
      "cell_type": "markdown",
      "source": [
        "#### 1 Normalization\n",
        "\n",
        "First we have to normalize the data properly. We normalize the data by using the following formula:\n",
        "\n"
      ],
      "metadata": {
        "id": "eHD4F9_bLSmg"
      }
    },
    {
      "cell_type": "markdown",
      "source": [
        "$X_{train} = \\frac{X_{train} - \\bar{X}_{train}}{\\sigma_{X_{train}}}$\n",
        "\n",
        "$X_{test} = \\frac{X_{test} - \\bar{X}_{train}}{\\sigma_{X_{train}}}$\n",
        "\n"
      ],
      "metadata": {
        "id": "JVzIJRbRL3NB"
      }
    },
    {
      "cell_type": "markdown",
      "source": [
        "These are the first three lines of $X_{train}$\n",
        "\n",
        "```\n",
        "[-0.85682268,  1.03978436],\n",
        "[ 0.23370412, -0.7659015 ],\n",
        "[ 0.99482891,  0.0611624 ],\n",
        "```\n",
        "\n",
        "These are the first three lines of $X_{test}$\n",
        "\n",
        "```\n",
        "[-1.19657104, -0.08841231],\n",
        "[-0.77660018,  1.22014734],\n",
        "[-0.73311504,  0.7220799 ],\n",
        "```"
      ],
      "metadata": {
        "id": "05XQ0hOFNU6N"
      }
    },
    {
      "cell_type": "markdown",
      "source": [
        "Write a function that normalizes the training and testing data according to the formula provided above.\n",
        "\n",
        "Expected output:\n",
        "```\n",
        "STD before normalization\n",
        "X_train:  [1.63869787 1.79957369]\n",
        "X_test:  [1.76751798 1.59554563]\n",
        "\n",
        "STD after normalization\n",
        "X_train:  [1. 1.]\n",
        "X_test:  [1.07861126 0.88662422]\n",
        "```"
      ],
      "metadata": {
        "id": "4HzimWnOMo2k"
      }
    },
    {
      "cell_type": "markdown",
      "source": [
        "Write a function that normalizes the training and testing data according to the formula provided above."
      ],
      "metadata": {
        "id": "Kli_qSqLOWvo"
      }
    },
    {
      "cell_type": "code",
      "source": [
        "### Before normalization ###\n",
        "print(\"STD before normalization\")\n",
        "print(\"X_train: \", X_train.std(axis=0))\n",
        "print(\"X_test: \", X_test.std(axis=0))\n",
        "\n",
        "### TODO: Normalize the training and testing data.\n",
        "mu, sigma = #TODO\n",
        "X_train_norm = #TODO\n",
        "X_test_nrom = #TODO\n",
        "\n",
        "### After normalization ###\n",
        "print()\n",
        "print(\"STD after normalization\")\n",
        "print(\"X_train: \", X_train_norm.std(axis=0))\n",
        "print(\"X_test: \", X_test_nrom.std(axis=0))\n",
        "\n",
        "# Note: in practice, you should keep the original tensors.\n",
        "# For simplicity, we will reuse the variables and replace with the normalised values.\n",
        "X_train, X_test = X_train_norm, X_test_nrom"
      ],
      "metadata": {
        "id": "UOD-u5QoN1Pc",
        "outputId": "adf4ee63-9fba-416b-9dc4-59ef3dcd38ab",
        "colab": {
          "base_uri": "https://localhost:8080/"
        }
      },
      "execution_count": null,
      "outputs": [
        {
          "output_type": "stream",
          "name": "stdout",
          "text": [
            "STD before normalization\n",
            "X_train:  [1.63869787 1.79957369]\n",
            "X_test:  [1.76751798 1.59554563]\n",
            "\n",
            "STD after normalization\n",
            "X_train:  [1. 1.]\n",
            "X_test:  [1.07861126 0.88662422]\n"
          ]
        }
      ]
    },
    {
      "cell_type": "markdown",
      "source": [
        "#### 2 Create a simple MLP in pytorch.\n",
        "\n",
        "You can refer to the following tutorial for help:\n",
        "https://pytorch.org/tutorials/beginner/basics/buildmodel_tutorial.html"
      ],
      "metadata": {
        "id": "uBd5fGEuKsZL"
      }
    },
    {
      "cell_type": "markdown",
      "source": [
        "Since we are going to use pytorch, convert the data to pytorch tensors."
      ],
      "metadata": {
        "id": "iZ96WABNhID2"
      }
    },
    {
      "cell_type": "code",
      "source": [
        "import torch"
      ],
      "metadata": {
        "id": "mBVsA3jbISB4"
      },
      "execution_count": null,
      "outputs": []
    },
    {
      "cell_type": "code",
      "source": [
        "X_train_tensor = torch.FloatTensor(X_train)\n",
        "y_train_tensor = torch.LongTensor(y_train)\n",
        "\n",
        "X_test_tensor = torch.FloatTensor(X_test)\n",
        "y_test_tensor = torch.LongTensor(y_test)"
      ],
      "metadata": {
        "id": "IAvwQVKuhQhZ"
      },
      "execution_count": null,
      "outputs": []
    },
    {
      "cell_type": "markdown",
      "source": [
        "Create a tensor dataset together with a dataloader of batch size of 8. The shuffle of the dataloader for the training data should be true, and that of the test should be false."
      ],
      "metadata": {
        "id": "IvaZpdRhhlBj"
      }
    },
    {
      "cell_type": "code",
      "source": [
        "from torch.utils.data import TensorDataset, DataLoader\n",
        "\n",
        "# Create TensorDatasets\n",
        "train_dataset = #TODO\n",
        "test_dataset = #TODO\n",
        "\n",
        "# Create DataLoader\n",
        "batch_size = 8\n",
        "train_loader = #TODO\n",
        "test_loader = #TODO"
      ],
      "metadata": {
        "id": "pnAO88AQhjHC"
      },
      "execution_count": null,
      "outputs": []
    },
    {
      "cell_type": "markdown",
      "source": [
        "Check if the following properties match the desired ones\n",
        "\n",
        "```\n",
        "Properties of train/test datasets\n",
        "Train dataset length: 67\n",
        "First element of train dataset: (tensor([-0.8568,  1.0398]), tensor(1))\n",
        "Test dataset length: 33\n",
        "First element of test dataset: (tensor([-1.1966, -0.0884]), tensor(0))\n",
        "\n",
        " Properties of loaders\n",
        "Number of batches in train loader: 9\n",
        "Batch size in train loader: 8\n",
        "Number of batches in test loader: 5\n",
        "Batch size in test loader: 8\n",
        "```"
      ],
      "metadata": {
        "id": "52tVLy2TItW1"
      }
    },
    {
      "cell_type": "code",
      "source": [
        "# Properties of train and test datasets\n",
        "print(\"Properties of train/test datasets\")\n",
        "print(\"Train dataset length:\", len(train_dataset))\n",
        "print(\"First element of train dataset:\", train_dataset[0])\n",
        "print(\"Test dataset length:\", len(test_dataset))\n",
        "print(\"First element of test dataset:\", test_dataset[0])\n",
        "\n",
        "# Properties of train and test loader\n",
        "print(\"\\n Properties of loaders\")\n",
        "print(\"Number of batches in train loader:\", len(train_loader))\n",
        "print(\"Batch size in train loader:\", train_loader.batch_size)\n",
        "print(\"Number of batches in test loader:\", len(test_loader))\n",
        "print(\"Batch size in test loader:\", test_loader.batch_size)"
      ],
      "metadata": {
        "id": "1AH6P3TJIrn7",
        "outputId": "be5c3732-57a4-48c2-cc45-c3e644c744af",
        "colab": {
          "base_uri": "https://localhost:8080/"
        }
      },
      "execution_count": null,
      "outputs": [
        {
          "output_type": "stream",
          "name": "stdout",
          "text": [
            "Properties of train/test datasets\n",
            "Train dataset length: 67\n",
            "First element of train dataset: (tensor([-0.8568,  1.0398]), tensor(1))\n",
            "Test dataset length: 33\n",
            "First element of test dataset: (tensor([-1.1966, -0.0884]), tensor(0))\n",
            "\n",
            " Properties of loaders\n",
            "Number of batches in train loader: 9\n",
            "Batch size in train loader: 8\n",
            "Number of batches in test loader: 5\n",
            "Batch size in test loader: 8\n"
          ]
        }
      ]
    },
    {
      "cell_type": "markdown",
      "source": [
        "Create and instantiate a MLP class. It should have just two functions, the __init__ function and the forward function.\n",
        "\n",
        "The MLP should have the following parameters:\n",
        "\n",
        "*   Layer 1 (input layer): input 2, output 64\n",
        "*   RELU\n",
        "*   Layer 2 (hidden layer): input 64, output 32\n",
        "*   RELU\n",
        "*   Layer 3 (output layer): input 32, output 2"
      ],
      "metadata": {
        "id": "t-TIWnE4jvID"
      }
    },
    {
      "cell_type": "code",
      "source": [
        "import torch\n",
        "import torch.nn as nn\n",
        "\n",
        "device = torch.device('cuda' if torch.cuda.is_available() else 'cpu')\n",
        "\n",
        "class MLP(nn.Module):\n",
        "    def __init__(self):\n",
        "        #TODO\n",
        "\n",
        "    def forward(self, x):\n",
        "        #TODO\n",
        "\n",
        "model = MLP().to(device)\n",
        "\n",
        "# Print model architecture\n",
        "print(model)"
      ],
      "metadata": {
        "id": "09os7ttFP5uP",
        "outputId": "d778cd8c-f19b-4f84-f01f-c4725c3269f5",
        "colab": {
          "base_uri": "https://localhost:8080/"
        }
      },
      "execution_count": null,
      "outputs": [
        {
          "output_type": "stream",
          "name": "stdout",
          "text": [
            "MLP(\n",
            "  (layers): Sequential(\n",
            "    (0): Linear(in_features=2, out_features=64, bias=True)\n",
            "    (1): ReLU()\n",
            "    (2): Linear(in_features=64, out_features=32, bias=True)\n",
            "    (3): ReLU()\n",
            "    (4): Linear(in_features=32, out_features=2, bias=True)\n",
            "  )\n",
            ")\n"
          ]
        }
      ]
    },
    {
      "cell_type": "code",
      "source": [
        "device = torch.device('cuda' if torch.cuda.is_available() else 'cpu')\n",
        "model = MLP().to(device)"
      ],
      "metadata": {
        "id": "5LkKIklARefW"
      },
      "execution_count": null,
      "outputs": []
    },
    {
      "cell_type": "markdown",
      "source": [
        "Set the optimizer to SGD with learning rate of 0.01. The loss should be CrossEntropyLoss\n"
      ],
      "metadata": {
        "id": "wbUpSdvgkdJf"
      }
    },
    {
      "cell_type": "code",
      "source": [
        "optimizer = #TODO\n",
        "criterion = #TODO\n",
        "\n",
        "# Properties of optimizer and criterion\n",
        "print(\"Properties of optimizer and criterion:\")\n",
        "print(\"Optimizer:\", optimizer)\n",
        "print(\"Criterion:\", criterion)"
      ],
      "metadata": {
        "id": "MThP8hagRy3R",
        "colab": {
          "base_uri": "https://localhost:8080/"
        },
        "outputId": "9a2fb4d0-fdf3-4cec-818e-3c762b199fd8"
      },
      "execution_count": null,
      "outputs": [
        {
          "output_type": "stream",
          "name": "stdout",
          "text": [
            "Properties of optimizer and criterion:\n",
            "Optimizer: SGD (\n",
            "Parameter Group 0\n",
            "    dampening: 0\n",
            "    differentiable: False\n",
            "    foreach: None\n",
            "    fused: None\n",
            "    lr: 0.01\n",
            "    maximize: False\n",
            "    momentum: 0\n",
            "    nesterov: False\n",
            "    weight_decay: 0\n",
            ")\n",
            "Criterion: CrossEntropyLoss()\n"
          ]
        }
      ]
    },
    {
      "cell_type": "markdown",
      "source": [
        "Now we need to run the training loop. Set the number of epochs to be 100. After which we run the following for each epoch.\n",
        "\n",
        "**Question 1: You may get different loss values for each epoch, why?**\n",
        "\n",
        "**Question 2: Why is there no softmax?**\n",
        "\n"
      ],
      "metadata": {
        "id": "86gooxSoljyb"
      }
    },
    {
      "cell_type": "code",
      "source": [
        "# Training loop\n",
        "num_epochs = 100\n",
        "logs = []\n",
        "for epoch in range(num_epochs):\n",
        "    for inputs, labels in train_loader:\n",
        "        #TODO\n",
        "    if epoch % 20 == 0:\n",
        "        #TODO\n"
      ],
      "metadata": {
        "colab": {
          "base_uri": "https://localhost:8080/"
        },
        "id": "IYvH693IRJKb",
        "outputId": "f353bdbb-ecc9-48f1-ec6b-e7972d818a77"
      },
      "execution_count": null,
      "outputs": [
        {
          "output_type": "stream",
          "name": "stdout",
          "text": [
            "Epoch 1/100, Loss: 0.681739091873169\n",
            "Epoch 21/100, Loss: 0.29990410804748535\n",
            "Epoch 41/100, Loss: 0.6456886529922485\n",
            "Epoch 61/100, Loss: 0.12474963068962097\n",
            "Epoch 81/100, Loss: 0.0795564129948616\n"
          ]
        }
      ]
    },
    {
      "cell_type": "markdown",
      "source": [
        "Now we carry out an evaluation of the model based on the test set. The steps are the following:\n",
        "\n",
        "\n",
        "\n",
        "```\n",
        "model.eval()  # Set the model to evaluation mode\n",
        "\n",
        "correct = 0\n",
        "total = 0\n",
        "\n",
        "with torch.no_grad():\n",
        "    for inputs, labels in test_loader:\n",
        "        # set the forward pass\n",
        "        # get the predicted values\n",
        "        # get the number of observations in batch\n",
        "        # get the number of correct predictions\n",
        "\n",
        "accuracy = correct / total\n",
        "print(f'Test Accuracy: {accuracy * 100:.2f}%')\n",
        "```\n",
        "\n",
        "Do note that to get the prediction, it will find out which index position is larger and set it to the correspnding index. An example:\n",
        "\n",
        "*   [1.5, -0.5] will set the prediction to 0.\n",
        "*   [0.5, 3.5] will set the prediction to 1.\n",
        "*   [0.5, -3.5] will set the prediction to 0.\n"
      ],
      "metadata": {
        "id": "KX-QM0_QmHJ2"
      }
    },
    {
      "cell_type": "code",
      "source": [
        "model.eval()  # Set the model to evaluation mode\n",
        "correct = 0\n",
        "total = 0\n",
        "\n",
        "with torch.no_grad():\n",
        "    for inputs, labels in test_loader:\n",
        "        #TODO\n",
        "\n",
        "mlp_accuracy = correct / total\n",
        "print(f'Test Accuracy: {mlp_accuracy * 100:.2f}%')"
      ],
      "metadata": {
        "colab": {
          "base_uri": "https://localhost:8080/"
        },
        "id": "8vudQ0wEbxbJ",
        "outputId": "75a4a0f6-13ac-4af6-8be1-b69dac9841ca"
      },
      "execution_count": null,
      "outputs": [
        {
          "output_type": "stream",
          "name": "stdout",
          "text": [
            "Test Accuracy: 93.94%\n"
          ]
        }
      ]
    },
    {
      "cell_type": "markdown",
      "source": [
        "#### 3 Creation of Activation Functions (6 marks)"
      ],
      "metadata": {
        "id": "Ypxj3O21x7K2"
      }
    },
    {
      "cell_type": "markdown",
      "source": [
        "Create three classes, each class depicting one activation function, sigmoid, tanh and relu.\n",
        "\n",
        "```\n",
        "class Sigmoid():\n",
        "    def __init__(self):\n",
        "        return\n",
        "\n",
        "    def forward(self, x):\n",
        "        sigmoid_x = todo\n",
        "        return sigmoid_x\n",
        "\n",
        "    def derivative(self):\n",
        "        return todo\n",
        "```\n",
        "\n"
      ],
      "metadata": {
        "id": "sExG2neX3iTM"
      }
    },
    {
      "cell_type": "markdown",
      "source": [
        "The formulas are below:\n",
        "\n",
        "$sigmoid(z) = \\frac{1}{1+e^{-z}}$\n",
        "\n",
        "$sigmoid.derivative() = sigmoid(z) - sigmoid(z)^2$\n",
        "\n",
        "$tanh(z) = \\frac{sinh(z)}{cosh(z)}$\n",
        "\n",
        "$tanh.derivative(z) = 1 - tanh^2(z)$\n",
        "\n",
        "$relu(z) = max(z, 0)$\n",
        "\n",
        "$relu.derivative(z) = 1$ if $z \\gt 0$\n",
        "\n",
        "$relu.derivative(z) = 0$ if $z \\leq 0$\n",
        "\n"
      ],
      "metadata": {
        "id": "1_JdAk4j4DmA"
      }
    },
    {
      "cell_type": "code",
      "source": [
        "import numpy as np\n",
        "class Sigmoid():\n",
        "    def __init__(self):\n",
        "        return\n",
        "\n",
        "    def forward(self, x):\n",
        "       #TODO\n",
        "        return #TODO\n",
        "\n",
        "    def derivative(self):\n",
        "        return #TODO"
      ],
      "metadata": {
        "id": "FaUl__jr3Voc"
      },
      "execution_count": null,
      "outputs": []
    },
    {
      "cell_type": "code",
      "source": [
        "class Tanh():\n",
        "    def __init__(self):\n",
        "        return\n",
        "\n",
        "    def forward(self, x):\n",
        "        #TODO\n",
        "        return #TODO\n",
        "\n",
        "    def derivative(self):\n",
        "        return #TODO"
      ],
      "metadata": {
        "id": "jf-zqfMwtP5-"
      },
      "execution_count": null,
      "outputs": []
    },
    {
      "cell_type": "code",
      "source": [
        "class ReLU():\n",
        "\n",
        "    def __init__(self):\n",
        "        return\n",
        "\n",
        "    def forward(self, x):\n",
        "        #TODO\n",
        "        return #TODO\n",
        "\n",
        "    def derivative(self):\n",
        "        return #TODO"
      ],
      "metadata": {
        "id": "2NttlMFc36xw"
      },
      "execution_count": null,
      "outputs": []
    },
    {
      "cell_type": "code",
      "source": [
        "sample_data = X_train[:5]\n",
        "print(sample_data)"
      ],
      "metadata": {
        "id": "JVMd7OHsCRay",
        "colab": {
          "base_uri": "https://localhost:8080/"
        },
        "outputId": "ad0bad7b-7829-4360-be4f-3971d9f76183"
      },
      "execution_count": null,
      "outputs": [
        {
          "output_type": "stream",
          "name": "stdout",
          "text": [
            "[[-0.85682268  1.03978436]\n",
            " [ 0.23370412 -0.7659015 ]\n",
            " [ 0.99482891  0.0611624 ]\n",
            " [ 1.4878883   0.34141449]\n",
            " [-0.68994128  0.20731248]]\n"
          ]
        }
      ]
    },
    {
      "cell_type": "code",
      "source": [
        "sigmoid = Sigmoid()\n",
        "sample_data_sigmoid_forward = sigmoid.forward(sample_data)\n",
        "print(sample_data_sigmoid_forward)"
      ],
      "metadata": {
        "id": "J4Hc4ZRFCU0H",
        "colab": {
          "base_uri": "https://localhost:8080/"
        },
        "outputId": "fd0f3b9b-f03b-4920-960a-5d81d691d30c"
      },
      "execution_count": null,
      "outputs": [
        {
          "output_type": "stream",
          "name": "stdout",
          "text": [
            "[[0.29800361 0.7388084 ]\n",
            " [0.55816155 0.31736636]\n",
            " [0.73004067 0.51528583]\n",
            " [0.81576111 0.58453408]\n",
            " [0.33404614 0.55164329]]\n"
          ]
        }
      ]
    },
    {
      "cell_type": "code",
      "source": [
        "sample_data_sigmoid_derivative = sigmoid.derivative()\n",
        "print(sample_data_sigmoid_derivative)"
      ],
      "metadata": {
        "id": "loORvVJwCXdu",
        "colab": {
          "base_uri": "https://localhost:8080/"
        },
        "outputId": "565e3c3d-fb65-429c-86c0-413ca4921c06"
      },
      "execution_count": null,
      "outputs": [
        {
          "output_type": "stream",
          "name": "stdout",
          "text": [
            "[[0.20919746 0.19297055]\n",
            " [0.24661723 0.21664495]\n",
            " [0.19708129 0.24976634]\n",
            " [0.15029492 0.24285399]\n",
            " [0.22245932 0.24733297]]\n"
          ]
        }
      ]
    },
    {
      "cell_type": "code",
      "source": [
        "sample_data = X_train[:5]\n",
        "tanh = Tanh()\n",
        "\n",
        "sample_data_tanh_forward = tanh.forward(sample_data)\n",
        "print(sample_data_tanh_forward)"
      ],
      "metadata": {
        "id": "VFS0I7iwCbcE",
        "colab": {
          "base_uri": "https://localhost:8080/"
        },
        "outputId": "d12e540e-d3f5-4c68-cc2a-4ab9d5d30dea"
      },
      "execution_count": null,
      "outputs": [
        {
          "output_type": "stream",
          "name": "stdout",
          "text": [
            "[[-0.69461701  0.7778029 ]\n",
            " [ 0.22954028 -0.64453992]\n",
            " [ 0.75941386  0.06108625]\n",
            " [ 0.90293544  0.32873961]\n",
            " [-0.59794427  0.20439267]]\n"
          ]
        }
      ]
    },
    {
      "cell_type": "code",
      "source": [
        "sample_data_tanh_derivative = tanh.derivative()\n",
        "print(sample_data_tanh_derivative)"
      ],
      "metadata": {
        "id": "Z0RCkKalCcJW",
        "colab": {
          "base_uri": "https://localhost:8080/"
        },
        "outputId": "c79817d7-5479-42c0-f1e4-d1cace4ee761"
      },
      "execution_count": null,
      "outputs": [
        {
          "output_type": "stream",
          "name": "stdout",
          "text": [
            "[[0.51750721 0.39502265]\n",
            " [0.94731126 0.58456829]\n",
            " [0.42329059 0.99626847]\n",
            " [0.1847076  0.89193027]\n",
            " [0.64246264 0.95822363]]\n"
          ]
        }
      ]
    },
    {
      "cell_type": "code",
      "source": [
        "sample_data = X_train[:5]\n",
        "relu = ReLU()\n",
        "\n",
        "sample_data_relu_forward = relu.forward(sample_data)\n",
        "print(sample_data_relu_forward)"
      ],
      "metadata": {
        "id": "dNeZAYhmCf39",
        "colab": {
          "base_uri": "https://localhost:8080/"
        },
        "outputId": "529339a7-3749-4089-ec7e-7c5acd563d66"
      },
      "execution_count": null,
      "outputs": [
        {
          "output_type": "stream",
          "name": "stdout",
          "text": [
            "[[0.         1.03978436]\n",
            " [0.23370412 0.        ]\n",
            " [0.99482891 0.0611624 ]\n",
            " [1.4878883  0.34141449]\n",
            " [0.         0.20731248]]\n"
          ]
        }
      ]
    },
    {
      "cell_type": "code",
      "source": [
        "sample_data_relu_derivative = relu.derivative()\n",
        "print(sample_data_relu_derivative)"
      ],
      "metadata": {
        "id": "ZLhXmgqjCiF5",
        "colab": {
          "base_uri": "https://localhost:8080/"
        },
        "outputId": "7f4dea9b-e024-4115-e54a-b7d9aed6b9db"
      },
      "execution_count": null,
      "outputs": [
        {
          "output_type": "stream",
          "name": "stdout",
          "text": [
            "[[0. 1.]\n",
            " [1. 0.]\n",
            " [1. 1.]\n",
            " [1. 1.]\n",
            " [0. 1.]]\n"
          ]
        }
      ]
    }
  ]
}