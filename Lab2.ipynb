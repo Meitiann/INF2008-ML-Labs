{
  "nbformat": 4,
  "nbformat_minor": 0,
  "metadata": {
    "colab": {
      "provenance": [],
      "include_colab_link": true
    },
    "kernelspec": {
      "name": "python3",
      "display_name": "Python 3"
    },
    "language_info": {
      "name": "python"
    }
  },
  "cells": [
    {
      "cell_type": "markdown",
      "metadata": {
        "id": "view-in-github",
        "colab_type": "text"
      },
      "source": [
        "<a href=\"https://colab.research.google.com/github/Meitiann/INF2008-ML-Labs/blob/main/Lab2.ipynb\" target=\"_parent\"><img src=\"https://colab.research.google.com/assets/colab-badge.svg\" alt=\"Open In Colab\"/></a>"
      ]
    },
    {
      "cell_type": "markdown",
      "source": [
        "#Week2 Lab: Practice lab, no submission\n",
        "I left a few questions, please try to figure out"
      ],
      "metadata": {
        "id": "fhk4UstUIyFy"
      }
    },
    {
      "cell_type": "markdown",
      "source": [
        "## Feature Scaling"
      ],
      "metadata": {
        "id": "phcL_BTuCe46"
      }
    },
    {
      "cell_type": "markdown",
      "source": [
        "The lectures discussed three different techniques:\n",
        "- Mean normalization: $x_i := \\dfrac{x_i - \\mu_i}{max - min} $\n",
        "- Z-score normalization which we will explore below."
      ],
      "metadata": {
        "id": "TAbIC5lbEFw_"
      }
    },
    {
      "cell_type": "markdown",
      "source": [
        "### z-score normalization\n",
        "After z-score normalization, all features will have a mean of 0 and a standard deviation of 1.\n",
        "\n",
        "To implement z-score normalization, adjust your input values as shown in this formula:\n",
        "$$x^{n}_j = \\dfrac{x^{n}_j - \\mu_j}{\\sigma_j} \\tag{4}$$\n",
        "where $j$ selects a feature or a column in the $\\mathbf{X}$ matrix. $µ_j$ is the mean of all the values for feature (j) and $\\sigma_j$ is the standard deviation of feature (j).\n",
        "$$\n",
        "\\begin{align}\n",
        "\\mu_j &= \\frac{1}{N} \\sum_{n=0}^{N-1} x^{n}_j \\tag{5}\\\\\n",
        "\\sigma^2_j &= \\frac{1}{N} \\sum_{n=0}^{N-1} (x^{n}_j - \\mu_j)^2  \\tag{6}\n",
        "\\end{align}\n",
        "$$\n",
        "\n",
        ">**Implementation Note:** When normalizing the features, it is important\n",
        "to store the values used for normalization - the mean value and the standard deviation used for the computations. After learning the parameters\n",
        "from the model, we often want to predict the prices of houses we have not\n",
        "seen before. Given a new x value (living room area and number of bed-\n",
        "rooms), we must first normalize x using the mean and standard deviation\n",
        "that we had previously computed from the training set.\n",
        "\n",
        "**Implementation**"
      ],
      "metadata": {
        "id": "puoumuErEOxS"
      }
    },
    {
      "cell_type": "code",
      "source": [
        "import numpy as np\n",
        "import matplotlib.pyplot as plt"
      ],
      "metadata": {
        "id": "-NG4Go3eGdxO"
      },
      "execution_count": null,
      "outputs": []
    },
    {
      "cell_type": "code",
      "execution_count": null,
      "metadata": {
        "id": "xbnbzhraB7Hg"
      },
      "outputs": [],
      "source": [
        "def zscore_normalize_features(X):\n",
        "    \"\"\"\n",
        "    computes  X, zcore normalized by column\n",
        "\n",
        "    Args:\n",
        "      X (ndarray (m,n))     : input data, m examples, n features\n",
        "\n",
        "    Returns:\n",
        "      X_norm (ndarray (m,n)): input normalized by column\n",
        "      mu (ndarray (n,))     : mean of each feature\n",
        "      sigma (ndarray (n,))  : standard deviation of each feature\n",
        "    \"\"\"\n",
        "    # find the mean of each column/feature\n",
        "    mu     = np.mean(X, axis=0)                 # mu will have shape (n,)\n",
        "    # find the standard deviation of each column/feature\n",
        "    sigma  = np.std(X, axis=0)                  # sigma will have shape (n,)\n",
        "    # element-wise, subtract mu for that column from each example, divide by std for that column\n",
        "    X_norm = (X - mu) / sigma\n",
        "\n",
        "    return (X_norm, mu, sigma)\n",
        "\n",
        "#check our work\n",
        "#from sklearn.preprocessing import scale\n",
        "#scale(X_orig, axis=0, with_mean=True, with_std=True, copy=True)"
      ]
    },
    {
      "cell_type": "markdown",
      "source": [
        "Let's look at the steps involved in Z-score normalization. The plot below shows the transformation step by step."
      ],
      "metadata": {
        "id": "5JUGEsRAEqBt"
      }
    },
    {
      "cell_type": "code",
      "source": [
        "# download data\n",
        "!gdown 1FtEQNZcfT7AKOTmAdpConF16r5l7TiPo"
      ],
      "metadata": {
        "colab": {
          "base_uri": "https://localhost:8080/"
        },
        "id": "ry6dllH4GkdL",
        "outputId": "b36d11e5-8c0d-4363-b55f-91ac25642beb"
      },
      "execution_count": null,
      "outputs": [
        {
          "output_type": "stream",
          "name": "stdout",
          "text": [
            "Downloading...\n",
            "From: https://drive.google.com/uc?id=1FtEQNZcfT7AKOTmAdpConF16r5l7TiPo\n",
            "To: /content/houses.txt\n",
            "\r  0% 0.00/12.5k [00:00<?, ?B/s]\r100% 12.5k/12.5k [00:00<00:00, 32.2MB/s]\n"
          ]
        }
      ]
    },
    {
      "cell_type": "code",
      "source": [
        "data = np.loadtxt(\"houses.txt\", delimiter=',', skiprows=1)\n",
        "X_train = data[:,:4]\n",
        "y_train = data[:,4]\n",
        "\n",
        "X_features = ['size(sqft)','bedrooms','floors','age']\n",
        "\n",
        "mu     = np.mean(X_train,axis=0)\n",
        "sigma  = np.std(X_train,axis=0)\n",
        "X_mean = (X_train - mu)\n",
        "X_norm = (X_train - mu)/sigma\n",
        "\n",
        "fig,ax=plt.subplots(1, 3, figsize=(12, 3))\n",
        "ax[0].scatter(X_train[:,0], X_train[:,3])\n",
        "ax[0].set_xlabel(X_features[0]); ax[0].set_ylabel(X_features[3]);\n",
        "ax[0].set_title(\"unnormalized\")\n",
        "ax[0].axis('equal')\n",
        "\n",
        "ax[1].scatter(X_mean[:,0], X_mean[:,3])\n",
        "ax[1].set_xlabel(X_features[0]); ax[0].set_ylabel(X_features[3]);\n",
        "ax[1].set_title(r\"X - $\\mu$\")\n",
        "ax[1].axis('equal')\n",
        "\n",
        "ax[2].scatter(X_norm[:,0], X_norm[:,3])\n",
        "ax[2].set_xlabel(X_features[0]); ax[0].set_ylabel(X_features[3]);\n",
        "ax[2].set_title(r\"Z-score normalized\")\n",
        "ax[2].axis('equal')\n",
        "plt.tight_layout(rect=[0, 0.03, 1, 0.95])\n",
        "fig.suptitle(\"distribution of features before, during, after normalization\")\n",
        "plt.show()"
      ],
      "metadata": {
        "colab": {
          "base_uri": "https://localhost:8080/",
          "height": 307
        },
        "id": "jw_p8qrOE0Nj",
        "outputId": "733cfa32-8dac-44d7-d7ba-466acc60ea15"
      },
      "execution_count": null,
      "outputs": [
        {
          "output_type": "display_data",
          "data": {
            "text/plain": [
              "<Figure size 1200x300 with 3 Axes>"
            ],
            "image/png": "[encoded data removed]"
          },
          "metadata": {}
        }
      ]
    },
    {
      "cell_type": "markdown",
      "source": [
        "### TODO: Implemment Mean normalization: $x_i := \\dfrac{x_i - \\mu_i}{max - min} $"
      ],
      "metadata": {
        "id": "IPige_IoHynO"
      }
    },
    {
      "cell_type": "code",
      "source": [
        "#TODO"
      ],
      "metadata": {
        "id": "KuhC6U1MIpsx"
      },
      "execution_count": null,
      "outputs": []
    },
    {
      "cell_type": "code",
      "source": [
        "# @title 👀 Solution\n",
        "mu = np.mean(X_train,axis=0)\n",
        "max_value = np.max(X_train, axis=0)\n",
        "min_value = np.min(X_train, axis=0)\n",
        "\n",
        "X_mean = (X_train - mu)\n",
        "X_norm = (X_train - mu)/(max_value-min_value)\n",
        "\n",
        "fig,ax=plt.subplots(1, 3, figsize=(12, 3))\n",
        "ax[0].scatter(X_train[:,0], X_train[:,3])\n",
        "ax[0].set_xlabel(X_features[0]); ax[0].set_ylabel(X_features[3]);\n",
        "ax[0].set_title(\"unnormalized\")\n",
        "ax[0].axis('equal')\n",
        "\n",
        "ax[1].scatter(X_mean[:,0], X_mean[:,3])\n",
        "ax[1].set_xlabel(X_features[0]); ax[0].set_ylabel(X_features[3]);\n",
        "ax[1].set_title(r\"X - $\\mu$\")\n",
        "ax[1].axis('equal')\n",
        "\n",
        "ax[2].scatter(X_norm[:,0], X_norm[:,3])\n",
        "ax[2].set_xlabel(X_features[0]); ax[0].set_ylabel(X_features[3]);\n",
        "ax[2].set_title(r\"mean normalized\")\n",
        "ax[2].axis('equal')\n",
        "plt.tight_layout(rect=[0, 0.03, 1, 0.95])\n",
        "fig.suptitle(\"distribution of features before, during, after normalization\")\n",
        "plt.show()"
      ],
      "metadata": {
        "colab": {
          "base_uri": "https://localhost:8080/",
          "height": 307
        },
        "cellView": "form",
        "id": "kP5RxWW5IDf5",
        "outputId": "b8d92650-2152-4c8e-b94d-7f6c27a461a6"
      },
      "execution_count": null,
      "outputs": [
        {
          "output_type": "display_data",
          "data": {
            "text/plain": [
              "<Figure size 1200x300 with 3 Axes>"
            ],
            "image/png": "[encoded data removed]"
          },
          "metadata": {}
        }
      ]
    },
    {
      "cell_type": "markdown",
      "source": [
        "## Sigmoid or Logistic Function\n",
        "- We would like the predictions of our classification model to be between 0 and 1 since our output variable $y$ is either 0 or 1.\n",
        "- This can be accomplished by using a \"sigmoid function\" which maps all input values to values between 0 and 1.\n",
        "\n",
        "Let's implement the sigmoid function and see this for ourselves.\n",
        "\n",
        "## Formula for Sigmoid function\n",
        "\n",
        "The formula for a sigmoid function is as follows -  \n",
        "\n",
        "$g(z) = \\frac{1}{1+e^{-z}}\\tag{1}$\n",
        "\n",
        "In the case of logistic regression, z (the input to the sigmoid function), is the output of a linear regression model.\n",
        "- In the case of a single example, $z$ is scalar.\n",
        "- in the case of multiple examples, $z$ may be a vector consisting of $N$ values, one for each example.\n",
        "- The implementation of the sigmoid function should cover both of these potential input formats.\n",
        "Let's implement this in Python."
      ],
      "metadata": {
        "id": "VCpvcuO8IxXb"
      }
    },
    {
      "cell_type": "markdown",
      "source": [
        "NumPy has a function called [`exp()`](https://numpy.org/doc/stable/reference/generated/numpy.exp.html), which offers a convenient way to calculate the exponential ( $e^{z}$) of all elements in the input array (`z`).\n",
        "\n",
        "It also works with a single number as an input, as shown below."
      ],
      "metadata": {
        "id": "siy5xhgAJzop"
      }
    },
    {
      "cell_type": "code",
      "source": [
        "# Input is an array.\n",
        "input_array = np.array([1,2,3])\n",
        "exp_array = np.exp(input_array)\n",
        "\n",
        "print(\"Input to exp:\", input_array)\n",
        "print(\"Output of exp:\", exp_array)\n",
        "\n",
        "# Input is a single number\n",
        "input_val = 1\n",
        "exp_val = np.exp(input_val)\n",
        "\n",
        "print(\"Input to exp:\", input_val)\n",
        "print(\"Output of exp:\", exp_val)"
      ],
      "metadata": {
        "colab": {
          "base_uri": "https://localhost:8080/"
        },
        "id": "A49C8i8tJ06y",
        "outputId": "897e265c-2637-4e2f-f807-a8cf9ce00c7c"
      },
      "execution_count": null,
      "outputs": [
        {
          "output_type": "stream",
          "name": "stdout",
          "text": [
            "Input to exp: [1 2 3]\n",
            "Output of exp: [ 2.718  7.389 20.086]\n",
            "Input to exp: 1\n",
            "Output of exp: 2.718281828459045\n"
          ]
        }
      ]
    },
    {
      "cell_type": "markdown",
      "source": [
        "Implement the `sigmoid` function in python"
      ],
      "metadata": {
        "id": "UH56WETYJ8Hk"
      }
    },
    {
      "cell_type": "code",
      "source": [
        "def sigmoid(z):\n",
        "    \"\"\"\n",
        "    Compute the sigmoid of z\n",
        "\n",
        "    Args:\n",
        "        z (ndarray): A scalar, numpy array of any size.\n",
        "\n",
        "    Returns:\n",
        "        g (ndarray): sigmoid(z), with the same shape as z\n",
        "\n",
        "    \"\"\"\n",
        "    #TODO\n",
        "\n",
        "    return g"
      ],
      "metadata": {
        "id": "VgISLos5KJmB"
      },
      "execution_count": null,
      "outputs": []
    },
    {
      "cell_type": "code",
      "source": [
        "# @title 👀 Solution\n",
        "def sigmoid(z):\n",
        "    \"\"\"\n",
        "    Compute the sigmoid of z\n",
        "\n",
        "    Args:\n",
        "        z (ndarray): A scalar, numpy array of any size.\n",
        "\n",
        "    Returns:\n",
        "        g (ndarray): sigmoid(z), with the same shape as z\n",
        "\n",
        "    \"\"\"\n",
        "\n",
        "    g = 1/(1+np.exp(-z))\n",
        "\n",
        "    return g"
      ],
      "metadata": {
        "cellView": "form",
        "id": "lEEm73FBKF7y"
      },
      "execution_count": null,
      "outputs": []
    },
    {
      "cell_type": "markdown",
      "source": [
        "Let's see what the output of this function is for various value of `z`"
      ],
      "metadata": {
        "id": "Sw-sg9ZIKcjn"
      }
    },
    {
      "cell_type": "code",
      "source": [
        "# Generate an array of evenly spaced values between -10 and 10\n",
        "z_tmp = np.arange(-10,11)\n",
        "\n",
        "# Use the function implemented above to get the sigmoid values\n",
        "y = sigmoid(z_tmp)\n",
        "\n",
        "# Code for pretty printing the two arrays next to each other\n",
        "np.set_printoptions(precision=3)\n",
        "print(\"Input (z), Output (sigmoid(z))\")\n",
        "print(np.c_[z_tmp, y])"
      ],
      "metadata": {
        "colab": {
          "base_uri": "https://localhost:8080/"
        },
        "id": "oBjQfVMdJ6wT",
        "outputId": "a511b6fa-e367-40a7-f440-ba48b8a1f594"
      },
      "execution_count": null,
      "outputs": [
        {
          "output_type": "stream",
          "name": "stdout",
          "text": [
            "Input (z), Output (sigmoid(z))\n",
            "[[-1.000e+01  4.540e-05]\n",
            " [-9.000e+00  1.234e-04]\n",
            " [-8.000e+00  3.354e-04]\n",
            " [-7.000e+00  9.111e-04]\n",
            " [-6.000e+00  2.473e-03]\n",
            " [-5.000e+00  6.693e-03]\n",
            " [-4.000e+00  1.799e-02]\n",
            " [-3.000e+00  4.743e-02]\n",
            " [-2.000e+00  1.192e-01]\n",
            " [-1.000e+00  2.689e-01]\n",
            " [ 0.000e+00  5.000e-01]\n",
            " [ 1.000e+00  7.311e-01]\n",
            " [ 2.000e+00  8.808e-01]\n",
            " [ 3.000e+00  9.526e-01]\n",
            " [ 4.000e+00  9.820e-01]\n",
            " [ 5.000e+00  9.933e-01]\n",
            " [ 6.000e+00  9.975e-01]\n",
            " [ 7.000e+00  9.991e-01]\n",
            " [ 8.000e+00  9.997e-01]\n",
            " [ 9.000e+00  9.999e-01]\n",
            " [ 1.000e+01  1.000e+00]]\n"
          ]
        }
      ]
    },
    {
      "cell_type": "markdown",
      "source": [
        "The values in the left column are `z`, and the values in the right column are `sigmoid(z)`. As you can see, the input values to the sigmoid range from -10 to 10, and the output values range from 0 to 1.\n",
        "\n",
        "Now, let's try to plot this function using the `matplotlib` library."
      ],
      "metadata": {
        "id": "Ud9FS2h_KltP"
      }
    },
    {
      "cell_type": "code",
      "source": [
        "# Plot z vs sigmoid(z)\n",
        "fig,ax = plt.subplots(1,1,figsize=(5,3))\n",
        "ax.plot(z_tmp, y, c=\"b\")\n",
        "\n",
        "ax.set_title(\"Sigmoid function\")\n",
        "ax.set_ylabel('sigmoid(z)')\n",
        "ax.set_xlabel('z')"
      ],
      "metadata": {
        "colab": {
          "base_uri": "https://localhost:8080/",
          "height": 349
        },
        "id": "m2gIsbjoKnDj",
        "outputId": "4156c382-8b64-4287-a2ee-e4877fad8c62"
      },
      "execution_count": null,
      "outputs": [
        {
          "output_type": "execute_result",
          "data": {
            "text/plain": [
              "Text(0.5, 0, 'z')"
            ]
          },
          "metadata": {},
          "execution_count": 36
        },
        {
          "output_type": "display_data",
          "data": {
            "text/plain": [
              "<Figure size 500x300 with 1 Axes>"
            ],
            "image/png": "[encoded data removed]"
          },
          "metadata": {}
        }
      ]
    },
    {
      "cell_type": "markdown",
      "source": [
        "## Binary Classification with Logistic Regression using sklearn"
      ],
      "metadata": {
        "id": "mrPAAB0VL8A1"
      }
    },
    {
      "cell_type": "code",
      "source": [
        "# importing required libraries\n",
        "from sklearn.datasets import load_breast_cancer\n",
        "from sklearn.linear_model import LogisticRegression\n",
        "from sklearn.metrics import accuracy_score,classification_report,confusion_matrix,ConfusionMatrixDisplay\n",
        "from sklearn.model_selection import train_test_split\n",
        "from sklearn.preprocessing import StandardScaler\n",
        "import matplotlib.pyplot as plt\n",
        "import pandas as pd"
      ],
      "metadata": {
        "id": "L1fp6MDXMLwr"
      },
      "execution_count": null,
      "outputs": []
    },
    {
      "cell_type": "markdown",
      "source": [
        "We load the famous breast cancer dataset from sklearn. The aim is to predict whether a patient has breast cancer from several measurements so this is a binary classification problem."
      ],
      "metadata": {
        "id": "WVjlR7nSTFrL"
      }
    },
    {
      "cell_type": "code",
      "source": [
        "# Load the breast cancer dataset\n",
        "data = load_breast_cancer()\n",
        "X, y = data.data, data.target\n",
        "print(X,y)"
      ],
      "metadata": {
        "colab": {
          "base_uri": "https://localhost:8080/"
        },
        "id": "mAI4JwrMMwtU",
        "outputId": "bc16060a-fd9a-41bf-c36c-de2961d6f8e3"
      },
      "execution_count": null,
      "outputs": [
        {
          "output_type": "stream",
          "name": "stdout",
          "text": [
            "[[1.799e+01 1.038e+01 1.228e+02 ... 2.654e-01 4.601e-01 1.189e-01]\n",
            " [2.057e+01 1.777e+01 1.329e+02 ... 1.860e-01 2.750e-01 8.902e-02]\n",
            " [1.969e+01 2.125e+01 1.300e+02 ... 2.430e-01 3.613e-01 8.758e-02]\n",
            " ...\n",
            " [1.660e+01 2.808e+01 1.083e+02 ... 1.418e-01 2.218e-01 7.820e-02]\n",
            " [2.060e+01 2.933e+01 1.401e+02 ... 2.650e-01 4.087e-01 1.240e-01]\n",
            " [7.760e+00 2.454e+01 4.792e+01 ... 0.000e+00 2.871e-01 7.039e-02]] [0 0 0 0 0 0 0 0 0 0 0 0 0 0 0 0 0 0 0 1 1 1 0 0 0 0 0 0 0 0 0 0 0 0 0 0 0\n",
            " 1 0 0 0 0 0 0 0 0 1 0 1 1 1 1 1 0 0 1 0 0 1 1 1 1 0 1 0 0 1 1 1 1 0 1 0 0\n",
            " 1 0 1 0 0 1 1 1 0 0 1 0 0 0 1 1 1 0 1 1 0 0 1 1 1 0 0 1 1 1 1 0 1 1 0 1 1\n",
            " 1 1 1 1 1 1 0 0 0 1 0 0 1 1 1 0 0 1 0 1 0 0 1 0 0 1 1 0 1 1 0 1 1 1 1 0 1\n",
            " 1 1 1 1 1 1 1 1 0 1 1 1 1 0 0 1 0 1 1 0 0 1 1 0 0 1 1 1 1 0 1 1 0 0 0 1 0\n",
            " 1 0 1 1 1 0 1 1 0 0 1 0 0 0 0 1 0 0 0 1 0 1 0 1 1 0 1 0 0 0 0 1 1 0 0 1 1\n",
            " 1 0 1 1 1 1 1 0 0 1 1 0 1 1 0 0 1 0 1 1 1 1 0 1 1 1 1 1 0 1 0 0 0 0 0 0 0\n",
            " 0 0 0 0 0 0 0 1 1 1 1 1 1 0 1 0 1 1 0 1 1 0 1 0 0 1 1 1 1 1 1 1 1 1 1 1 1\n",
            " 1 0 1 1 0 1 0 1 1 1 1 1 1 1 1 1 1 1 1 1 1 0 1 1 1 0 1 0 1 1 1 1 0 0 0 1 1\n",
            " 1 1 0 1 0 1 0 1 1 1 0 1 1 1 1 1 1 1 0 0 0 1 1 1 1 1 1 1 1 1 1 1 0 0 1 0 0\n",
            " 0 1 0 0 1 1 1 1 1 0 1 1 1 1 1 0 1 1 1 0 1 1 0 0 1 1 1 1 1 1 0 1 1 1 1 1 1\n",
            " 1 0 1 1 1 1 1 0 1 1 0 1 1 1 1 1 1 1 1 1 1 1 1 0 1 0 0 1 0 1 1 1 1 1 0 1 1\n",
            " 0 1 0 1 1 0 1 0 1 1 1 1 1 1 1 1 0 0 1 1 1 1 1 1 0 1 1 1 1 1 1 1 1 1 1 0 1\n",
            " 1 1 1 1 1 1 0 1 0 1 1 0 1 1 1 1 1 0 0 1 0 1 0 1 1 1 1 1 0 1 1 0 1 0 1 0 0\n",
            " 1 1 1 0 1 1 1 1 1 1 1 1 1 1 1 0 1 0 0 1 1 1 1 1 1 1 1 1 1 1 1 1 1 1 1 1 1\n",
            " 1 1 1 1 1 1 1 0 0 0 0 0 0 1]\n"
          ]
        }
      ]
    },
    {
      "cell_type": "code",
      "source": [
        "# Split the data into training and testing sets\n",
        "# Question: test_size=0.2, what does this mean?\n",
        "X_train, X_test, y_train, y_test = train_test_split(X, y, test_size=0.2, random_state=42)"
      ],
      "metadata": {
        "id": "eSF4OKbGMxx9"
      },
      "execution_count": null,
      "outputs": []
    },
    {
      "cell_type": "markdown",
      "source": [
        "##### In this part, you can compare the results using either non-normalized (raw) feature or normalized feature"
      ],
      "metadata": {
        "id": "w3BMpiEu4DbB"
      }
    },
    {
      "cell_type": "markdown",
      "source": [
        "###### use the non-normalized features X_train, X_test"
      ],
      "metadata": {
        "id": "QWdnmLMI3iM3"
      }
    },
    {
      "cell_type": "code",
      "source": [
        "# Create a logistic regression model\n",
        "model = LogisticRegression()\n",
        "\n",
        "# Fit the model to the training data\n",
        "model.fit(X_train, y_train)\n",
        "\n",
        "# Make predictions on the test data, to test the model\n",
        "y_pred = model.predict(X_test)\n",
        "\n",
        "# Evaluate the model\n",
        "\n",
        "accuracy = accuracy_score(y_test, y_pred)\n",
        "# Question: what is precision, recall f1-score -> will learn in the next lecture\n",
        "classification_report = classification_report(y_test,y_pred)\n",
        "print(f'accuracy score: {accuracy}')\n",
        "print(f'classifcation report : \\n  {classification_report}')\n"
      ],
      "metadata": {
        "colab": {
          "base_uri": "https://localhost:8080/"
        },
        "id": "qccMixZt0v23",
        "outputId": "eb135a5f-734b-41a5-fa91-b537edd08003"
      },
      "execution_count": null,
      "outputs": [
        {
          "output_type": "stream",
          "name": "stdout",
          "text": [
            "accuracy score: 0.956140350877193\n",
            "classifcation report : \n",
            "                precision    recall  f1-score   support\n",
            "\n",
            "           0       0.97      0.91      0.94        43\n",
            "           1       0.95      0.99      0.97        71\n",
            "\n",
            "    accuracy                           0.96       114\n",
            "   macro avg       0.96      0.95      0.95       114\n",
            "weighted avg       0.96      0.96      0.96       114\n",
            "\n"
          ]
        },
        {
          "output_type": "stream",
          "name": "stderr",
          "text": [
            "/usr/local/lib/python3.10/dist-packages/sklearn/linear_model/_logistic.py:465: ConvergenceWarning: lbfgs failed to converge (status=1):\n",
            "STOP: TOTAL NO. of ITERATIONS REACHED LIMIT.\n",
            "\n",
            "Increase the number of iterations (max_iter) or scale the data as shown in:\n",
            "    https://scikit-learn.org/stable/modules/preprocessing.html\n",
            "Please also refer to the documentation for alternative solver options:\n",
            "    https://scikit-learn.org/stable/modules/linear_model.html#logistic-regression\n",
            "  n_iter_i = _check_optimize_result(\n"
          ]
        }
      ]
    },
    {
      "cell_type": "markdown",
      "source": [
        "###### use the normalized features X_train_scaled, *X_test_scaled*"
      ],
      "metadata": {
        "id": "MqdfYHes0mXJ"
      }
    },
    {
      "cell_type": "code",
      "source": [
        "# # Standardize the numerical features\n",
        "# scaler = StandardScaler()\n",
        "# # Question: which type of feature scaling?\n",
        "# X_train_scaled = scaler.fit_transform(X_train)\n",
        "# # Question: what is the difference of fit_transform and transform?\n",
        "# X_test_scaled = scaler.transform(X_test)"
      ],
      "metadata": {
        "id": "EaRzsdZpM257"
      },
      "execution_count": null,
      "outputs": []
    },
    {
      "cell_type": "code",
      "source": [
        "# # Create a logistic regression model\n",
        "# model = LogisticRegression()\n",
        "\n",
        "# # Fit the model to the training data\n",
        "# model.fit(X_train_scaled, y_train)\n",
        "\n",
        "# # Make predictions on the test data, to test the model\n",
        "# y_pred = model.predict(X_test_scaled)\n",
        "\n",
        "# # Evaluate the model\n",
        "\n",
        "# accuracy = accuracy_score(y_test, y_pred)\n",
        "# # Question: what is precision, recall f1-score -> will learn in the next lecture\n",
        "# classification_report = classification_report(y_test,y_pred)\n",
        "# print(f'accuracy score: {accuracy}')\n",
        "# print(f'classifcation report : \\n  {classification_report}')\n"
      ],
      "metadata": {
        "id": "aFenzewYL0wW"
      },
      "execution_count": null,
      "outputs": []
    },
    {
      "cell_type": "markdown",
      "source": [
        "*Use the normalized feature can get better results!*"
      ],
      "metadata": {
        "id": "eqN1JEqB3vV6"
      }
    },
    {
      "cell_type": "markdown",
      "source": [
        "## Binary Classification with Logistic Regression using PyTorch\n",
        "You can refer to the following tutorial for help: https://pytorch.org/tutorials/beginner/basics/buildmodel_tutorial.html"
      ],
      "metadata": {
        "id": "srtWlw_eSiuq"
      }
    },
    {
      "cell_type": "markdown",
      "source": [
        "In general, when working with PyTorch there are 4 steps to the training pipeline.\n",
        "\n",
        "- Preprare the data (convert to tensors, reshape etc)\n",
        "- Construct the model (usually as a class)\n",
        "- Define the loss and optimiser\n",
        "- Write a training loop\n",
        "This time, we will practice these steps on a logistic regression problem.\n",
        "\n"
      ],
      "metadata": {
        "id": "qa59Le5uS55T"
      }
    },
    {
      "cell_type": "code",
      "source": [
        "import numpy as np\n",
        "import matplotlib.pyplot as plt\n",
        "%matplotlib inline\n",
        "from sklearn import datasets\n",
        "from sklearn.preprocessing import StandardScaler\n",
        "from sklearn.model_selection import train_test_split\n",
        "import torch\n",
        "import torch.nn as nn"
      ],
      "metadata": {
        "id": "96YF4JU5Skro"
      },
      "execution_count": null,
      "outputs": []
    },
    {
      "cell_type": "markdown",
      "source": [
        "#### 1. Preprare the data and concert tensor\n",
        "We use the same breast cancer dataset from sklearn"
      ],
      "metadata": {
        "id": "BQxTBuN2TKLl"
      }
    },
    {
      "cell_type": "code",
      "source": [
        "# Load data\n",
        "data = datasets.load_breast_cancer()\n",
        "X, y = data.data, data.target\n",
        "print('X shape:',X.shape)\n",
        "print('y shape:',y.shape)\n",
        "\n",
        "# Split data (80/20)\n",
        "X_train, X_test, y_train, y_test = train_test_split(X, y, test_size=0.2, random_state=0)\n",
        "\n",
        "# Scale data (mean=0, std=1)\n",
        "sc = StandardScaler()\n",
        "X_train = sc.fit_transform(X_train)\n",
        "X_test = sc.transform(X_test)\n",
        "\n",
        "# Convert to tensors\n",
        "X_train = torch.from_numpy(X_train.astype(np.float32))\n",
        "y_train = torch.from_numpy(y_train.astype(np.float32))\n",
        "X_test = torch.from_numpy(X_test.astype(np.float32))\n",
        "y_test = torch.from_numpy(y_test.astype(np.float32))"
      ],
      "metadata": {
        "colab": {
          "base_uri": "https://localhost:8080/"
        },
        "id": "4XoHvMpdTXe8",
        "outputId": "aa2e3f2b-5f13-4601-fe85-6c9f8cd54df0"
      },
      "execution_count": null,
      "outputs": [
        {
          "output_type": "stream",
          "name": "stdout",
          "text": [
            "X shape: (569, 30)\n",
            "y shape: (569,)\n"
          ]
        }
      ]
    },
    {
      "cell_type": "code",
      "source": [
        "# Reshape tensors\n",
        "y_train = y_train.view(-1,1)\n",
        "y_test = y_test.view(-1,1)\n",
        "print('y_train shape:', y_train.shape)\n",
        "print('y_test shape:', y_test.shape)"
      ],
      "metadata": {
        "colab": {
          "base_uri": "https://localhost:8080/"
        },
        "id": "L9Gov0m3TcLw",
        "outputId": "a37478bb-07c6-4b51-a3b6-d9ce79e80420"
      },
      "execution_count": null,
      "outputs": [
        {
          "output_type": "stream",
          "name": "stdout",
          "text": [
            "y_train shape: torch.Size([455, 1])\n",
            "y_test shape: torch.Size([114, 1])\n"
          ]
        }
      ]
    },
    {
      "cell_type": "markdown",
      "source": [
        "#### 2. Construct the model\n",
        "When working with neural networks, we need to inherit the 'nn.Module' and define a 'forward' attribute.\n",
        "\n",
        "The inheritance part is done to get access to attributes like 'model.parameters()', which are used in training."
      ],
      "metadata": {
        "id": "KlhfRos9TgIS"
      }
    },
    {
      "cell_type": "code",
      "source": [
        "class LogisticRegression(nn.Module):\n",
        "    def __init__(self, n_feats):\n",
        "        super().__init__()\n",
        "\n",
        "        # Define layers\n",
        "        self.lin = # TODO: define a layer n_feats to 1 (the output is 1)\n",
        "        self.sig = # TODO: define sigmoid function\n",
        "\n",
        "    def forward(self, x):\n",
        "        return self.sig(self.lin(x))\n"
      ],
      "metadata": {
        "id": "pNl1PBPFTu6R"
      },
      "execution_count": null,
      "outputs": []
    },
    {
      "cell_type": "code",
      "source": [
        "# @title 👀 Solution\n",
        "# Model\n",
        "class LogisticRegression(nn.Module):\n",
        "    def __init__(self, n_feats):\n",
        "        super().__init__()\n",
        "\n",
        "        # Define layers\n",
        "        self.lin = nn.Linear(n_feats,1)\n",
        "        self.sig = nn.Sigmoid()\n",
        "\n",
        "    def forward(self, x):\n",
        "        return self.sig(self.lin(x))\n",
        "\n",
        "model = LogisticRegression(n_feats = X.shape[1])"
      ],
      "metadata": {
        "id": "H2Hs1odsTqDo"
      },
      "execution_count": null,
      "outputs": []
    },
    {
      "cell_type": "markdown",
      "source": [
        "#### 3. Define the loss and optimiser\n",
        "The loss function is called from the 'torch.nn' library and the optimiser from the 'torch.optim' library."
      ],
      "metadata": {
        "id": "y32LVdHLUWPw"
      }
    },
    {
      "cell_type": "code",
      "source": [
        "# Binary cross entropy loss\n",
        "loss = #TODO BCE loss\n",
        "\n",
        "# SGD optimiser\n",
        "optimiser = #TODO SGD optimizer"
      ],
      "metadata": {
        "id": "3qvgtCpWWvQj"
      },
      "execution_count": null,
      "outputs": []
    },
    {
      "cell_type": "code",
      "source": [
        "# @title 👀 Solution\n",
        "# Binary cross entropy loss\n",
        "loss = nn.BCELoss()\n",
        "\n",
        "# SGD optimiser\n",
        "optimiser = torch.optim.SGD(params = model.parameters(), lr=0.01)"
      ],
      "metadata": {
        "cellView": "form",
        "id": "uDwlrhDzUUsr"
      },
      "execution_count": null,
      "outputs": []
    },
    {
      "cell_type": "markdown",
      "source": [
        "#### 4. Write a training loop\n",
        "The most important thing to remember with PyTorch is that after every epoch, you have to zero the gradients (otherwise they will accumulate and explode)."
      ],
      "metadata": {
        "id": "n9e5WK8UUfsJ"
      }
    },
    {
      "cell_type": "code",
      "source": [
        "n_iters = 1000\n",
        "\n",
        "# Loop\n",
        "for epoch in range(n_iters):\n",
        "    # Forward pass\n",
        "    y_preds = model(X_train)\n",
        "    L = loss(y_preds, y_train)\n",
        "\n",
        "    # Backprop\n",
        "    L.backward()\n",
        "\n",
        "    # Update parameters\n",
        "    optimiser.step()\n",
        "\n",
        "    # Zero gradients\n",
        "    optimiser.zero_grad()\n",
        "\n",
        "    # Print loss\n",
        "    if epoch % 100 == 0:\n",
        "        print(f'Epoch {epoch}, loss {L.item():.3f}')\n",
        "\n",
        "    #TODO: can you please plot the learning curve?\n"
      ],
      "metadata": {
        "colab": {
          "base_uri": "https://localhost:8080/"
        },
        "id": "7LlEXHnrUiSW",
        "outputId": "f6039023-5581-4c85-e33c-fdfdff567143"
      },
      "execution_count": null,
      "outputs": [
        {
          "output_type": "stream",
          "name": "stdout",
          "text": [
            "Epoch 0, loss 0.602\n",
            "Epoch 100, loss 0.249\n",
            "Epoch 200, loss 0.188\n",
            "Epoch 300, loss 0.160\n",
            "Epoch 400, loss 0.143\n",
            "Epoch 500, loss 0.132\n",
            "Epoch 600, loss 0.124\n",
            "Epoch 700, loss 0.117\n",
            "Epoch 800, loss 0.112\n",
            "Epoch 900, loss 0.108\n"
          ]
        }
      ]
    },
    {
      "cell_type": "markdown",
      "source": [
        "\n",
        "#### Evaluate\n",
        "Finally, we calculate the accuracy on the test set."
      ],
      "metadata": {
        "id": "Qih4uQHUU96q"
      }
    },
    {
      "cell_type": "code",
      "source": [
        "# Turn gradient tracking off\n",
        "with torch.no_grad():\n",
        "    acc = model(X_test).round().eq(y_test).sum() / len(y_test.numpy())\n",
        "    print(f'Accuracy on test set: {100*acc.item():.2f} %')"
      ],
      "metadata": {
        "colab": {
          "base_uri": "https://localhost:8080/"
        },
        "id": "scCV2XdcU_vg",
        "outputId": "83c2a0fb-53fa-4920-f8b0-3dc07fef3b36"
      },
      "execution_count": null,
      "outputs": [
        {
          "output_type": "stream",
          "name": "stdout",
          "text": [
            "Accuracy on test set: 94.74 %\n"
          ]
        }
      ]
    },
    {
      "cell_type": "markdown",
      "source": [],
      "metadata": {
        "id": "7BHgxYop5bxZ"
      }
    },
    {
      "cell_type": "code",
      "source": [],
      "metadata": {
        "id": "7aIfUDiEW-cS"
      },
      "execution_count": null,
      "outputs": []
    }
  ]
}